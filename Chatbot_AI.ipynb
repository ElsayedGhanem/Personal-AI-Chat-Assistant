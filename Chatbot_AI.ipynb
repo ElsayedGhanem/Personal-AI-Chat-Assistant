{
  "nbformat": 4,
  "nbformat_minor": 0,
  "metadata": {
    "colab": {
      "provenance": [],
      "gpuType": "T4"
    },
    "kernelspec": {
      "name": "python3",
      "display_name": "Python 3"
    },
    "language_info": {
      "name": "python"
    },
    "accelerator": "GPU"
  },
  "cells": [
    {
      "cell_type": "markdown",
      "source": [
        "## 🤖 Chatbot Project – Phase 1: Basic OpenRouter Chatbot\n",
        "\n",
        "This notebook demonstrates building a basic single-turn chatbot using the OpenRouter API.\n",
        "\n",
        "✅ Goal:\n",
        "- Connect to OpenRouter API.\n",
        "- Send a single prompt.\n",
        "- Get a single response.\n",
        "\n",
        "✅ Result:\n",
        "- Confirms our API connection works."
      ],
      "metadata": {
        "id": "7dCMqEdEFvOf"
      }
    },
    {
      "cell_type": "markdown",
      "source": [
        "## 📌 Step 1: Enter Your OpenRouter API Key\n",
        "\n",
        "We'll set our OpenRouter API Key.\n",
        "\n",
        "✅ *Important*: **Never share your real key in public notebooks.**\n",
        "Replace with your own key when running.\n"
      ],
      "metadata": {
        "id": "GPQ6FgpOQEOo"
      }
    },
    {
      "cell_type": "code",
      "source": [
        "import getpass\n",
        "\n",
        "api_key = getpass.getpass(\"Enter your OpenRouter API Key: \")\n"
      ],
      "metadata": {
        "colab": {
          "base_uri": "https://localhost:8080/"
        },
        "id": "wbel8GrXXXB5",
        "outputId": "d01818b1-f62c-4e6d-b66c-d7cb0049ef30"
      },
      "execution_count": null,
      "outputs": [
        {
          "name": "stdout",
          "output_type": "stream",
          "text": [
            "Enter your OpenRouter API Key: ··········\n"
          ]
        }
      ]
    },
    {
      "cell_type": "code",
      "source": [
        "# ⚠️ Replace with your own key when running\n",
        "# api_key = \"YOUR_OPENROUTER_API_KEY\"\n",
        "\n",
        "api_key = \"\"\n"
      ],
      "metadata": {
        "id": "43o9ukOQOj8R"
      },
      "execution_count": null,
      "outputs": []
    },
    {
      "cell_type": "markdown",
      "source": [
        "## 📌 Step 2: Make a Simple Chat Completion Request\n",
        "\n",
        "Here we send a single user prompt to OpenRouter and get the model's response.\n",
        "\n",
        "✅ **Goal:**\n",
        "- Send one user message.\n",
        "- Get one assistant reply."
      ],
      "metadata": {
        "id": "lqXTi-M-GMnA"
      }
    },
    {
      "cell_type": "code",
      "source": [
        "import requests\n",
        "\n",
        "# Define model and endpoint\n",
        "model = \"deepseek/deepseek-chat-v3-0324:free\"\n",
        "url = \"https://openrouter.ai/api/v1/chat/completions\"\n",
        "\n",
        "headers = {\n",
        "    \"Authorization\": f\"Bearer {api_key}\",\n",
        "    \"Content-Type\": \"application/json\"\n",
        "}\n",
        "\n",
        "data = {\n",
        "    \"model\": model,\n",
        "    \"messages\": [\n",
        "        {\"role\": \"system\", \"content\": \"You are a helpful assistant.\"},\n",
        "        {\"role\": \"user\", \"content\": \"Hello! How are you today?\"}\n",
        "    ]\n",
        "}\n",
        "\n",
        "response = requests.post(url, headers=headers, json=data)\n",
        "result = response.json()\n",
        "\n",
        "# Print the assistant's reply only\n",
        "try:\n",
        "    assistant_reply = result['choices'][0]['message']['content']\n",
        "    print(\"Assistant:\", assistant_reply)\n",
        "except KeyError:\n",
        "    print(\"Error in response:\", result)\n"
      ],
      "metadata": {
        "colab": {
          "base_uri": "https://localhost:8080/"
        },
        "id": "PManJdHiGQ3K",
        "outputId": "2a42f6c5-6544-41eb-d93d-a696e46eded9"
      },
      "execution_count": null,
      "outputs": [
        {
          "output_type": "stream",
          "name": "stdout",
          "text": [
            "Assistant: Hello! I'm just a chatbot, so I don't have feelings, but I'm here and ready to help you with anything you need. 😊 How about you? How's your day going?\n"
          ]
        }
      ]
    },
    {
      "cell_type": "markdown",
      "source": [
        "## 🤖 Chatbot Project – Phase 2: Multi-Turn Context Chatbot\n",
        "\n",
        "In this phase, we'll build a chatbot that remembers conversation context.\n",
        "\n",
        "✅ Goal:\n",
        "- Maintain conversation history.\n",
        "- Send full chat history to OpenRouter each time.\n",
        "- Get context-aware responses.\n",
        "\n",
        "✅ Result:\n",
        "- Assistant responds knowing the entire chat so far."
      ],
      "metadata": {
        "id": "C17uAIzIR-MW"
      }
    },
    {
      "cell_type": "code",
      "source": [
        "import requests\n",
        "import getpass\n",
        "\n",
        "api_key = getpass.getpass(\"Enter your OpenRouter API Key: \")\n",
        "\n",
        "model = \"deepseek/deepseek-chat-v3-0324:free\"\n",
        "url = \"https://openrouter.ai/api/v1/chat/completions\"\n",
        "\n",
        "# Conversation history\n",
        "messages = [\n",
        "    {\"role\": \"system\", \"content\": \"You are a helpful assistant.\"}\n",
        "]\n"
      ],
      "metadata": {
        "id": "3dZY59BfSLIY"
      },
      "execution_count": null,
      "outputs": []
    },
    {
      "cell_type": "code",
      "source": [
        "while True:\n",
        "    user_input = input(\"You: \").strip()\n",
        "    if user_input.lower() in [\"exit\", \"quit\", \"bye\"]:\n",
        "        print(\"Chatbot: Goodbye! 👋\")\n",
        "        break\n",
        "\n",
        "    # Add user message\n",
        "    messages.append({\"role\": \"user\", \"content\": user_input})\n",
        "\n",
        "    # Send to OpenRouter\n",
        "    response = requests.post(\n",
        "        url,\n",
        "        headers={\n",
        "            \"Authorization\": f\"Bearer {api_key}\",\n",
        "            \"Content-Type\": \"application/json\"\n",
        "        },\n",
        "        json={\n",
        "            \"model\": model,\n",
        "            \"messages\": messages\n",
        "        }\n",
        "    )\n",
        "\n",
        "    result = response.json()\n",
        "    try:\n",
        "        assistant_reply = result[\"choices\"][0][\"message\"][\"content\"]\n",
        "    except KeyError:\n",
        "        print(\"Error:\", result)\n",
        "        continue\n",
        "\n",
        "    # Print assistant reply\n",
        "    print(\"Chatbot:\", assistant_reply)\n",
        "\n",
        "    # Add assistant reply to conversation\n",
        "    messages.append({\"role\": \"assistant\", \"content\": assistant_reply})\n"
      ],
      "metadata": {
        "colab": {
          "base_uri": "https://localhost:8080/"
        },
        "id": "BBwXInkoSauu",
        "outputId": "78c52109-9286-40e7-c0bc-f84d6f824b4a"
      },
      "execution_count": null,
      "outputs": [
        {
          "output_type": "stream",
          "name": "stdout",
          "text": [
            "You: Hi how are you\n",
            "Chatbot: Hi! I'm just a virtual assistant, so I don't have feelings, but I'm here and ready to help you with anything you need! How about you—how are you doing today? 😊\n",
            "You: good can you help me\n",
            "Chatbot: Absolutely! I'd love to help—just let me know what you need. Whether it's:  \n",
            "\n",
            "- **Questions** (facts, trivia, advice)  \n",
            "- **Problem-solving** (math, tech, life hacks)  \n",
            "- **Creative stuff** (writing, ideas, planning)  \n",
            "- Or just a chat!  \n",
            "\n",
            "What’s on your mind? 😊\n",
            "You: math\n",
            "Chatbot: Great! What math topic or problem do you need help with? I can assist with:  \n",
            "\n",
            "- **Basic arithmetic** (+, -, ×, ÷)  \n",
            "- **Algebra** (equations, inequalities, functions)  \n",
            "- **Geometry** (shapes, angles, area/volume)  \n",
            "- **Calculus** (limits, derivatives, integrals)  \n",
            "- **Word problems** (break them down step by step)  \n",
            "- Or anything else!  \n",
            "\n",
            "Just share the problem or concept, and I’ll guide you through it.  \n",
            "\n",
            "For example:  \n",
            "- *\"Solve 3x + 5 = 11\"*  \n",
            "- *\"Find the area of a circle with radius 4\"*  \n",
            "- *\"Explain quadratic equations\"*  \n",
            "\n",
            "What’s your math challenge? 😊\n",
            "You: quit\n",
            "Chatbot: Goodbye! 👋\n"
          ]
        }
      ]
    },
    {
      "cell_type": "markdown",
      "source": [
        "## 🤖 Chatbot Project – Phase 3: Custom Persona System Prompt\n",
        "\n",
        "In this phase, we'll let the user choose the chatbot's personality.\n",
        "\n",
        "✅ Goal:\n",
        "- Customize the system prompt.\n",
        "- Define the assistant's style.\n",
        "- Make the chatbot more flexible and personal.\n",
        "\n",
        "✅ Result:\n",
        "- The assistant will adopt the chosen persona throughout the chat.\n"
      ],
      "metadata": {
        "id": "FIyXBRjCUEIj"
      }
    },
    {
      "cell_type": "code",
      "source": [
        "import requests\n",
        "\n",
        "api_key = getpass.getpass(\"Enter your OpenRouter API Key: \")\n",
        "model = \"deepseek/deepseek-chat-v3-0324:free\"\n",
        "url = \"https://openrouter.ai/api/v1/chat/completions\"\n",
        "\n",
        "# Ask the user for their preferred assistant style\n",
        "persona = input(\n",
        "    \"Choose your assistant's personality (e.g., helpful assistant, friendly comedian, expert doctor): \"\n",
        ").strip()\n",
        "\n",
        "# Start conversation with the custom system prompt\n",
        "messages = [\n",
        "    {\"role\": \"system\", \"content\": f\"You are {persona}.\"}\n",
        "]\n"
      ],
      "metadata": {
        "colab": {
          "base_uri": "https://localhost:8080/"
        },
        "id": "cy0-Yx7tUGzt",
        "outputId": "498de125-cbc1-4a33-fea9-20d1381faa58"
      },
      "execution_count": null,
      "outputs": [
        {
          "name": "stdout",
          "output_type": "stream",
          "text": [
            "Choose your assistant's personality (e.g., helpful assistant, friendly comedian, expert doctor): friendly comedian\n"
          ]
        }
      ]
    },
    {
      "cell_type": "code",
      "source": [
        "while True:\n",
        "    user_input = input(\"You: \").strip()\n",
        "    if user_input.lower() in [\"exit\", \"quit\", \"bye\"]:\n",
        "        print(\"Chatbot: Goodbye! 👋\")\n",
        "        break\n",
        "\n",
        "    # Add user message\n",
        "    messages.append({\"role\": \"user\", \"content\": user_input})\n",
        "\n",
        "    # Send to OpenRouter\n",
        "    response = requests.post(\n",
        "        url,\n",
        "        headers={\n",
        "            \"Authorization\": f\"Bearer {api_key}\",\n",
        "            \"Content-Type\": \"application/json\"\n",
        "        },\n",
        "        json={\n",
        "            \"model\": model,\n",
        "            \"messages\": messages\n",
        "        }\n",
        "    )\n",
        "\n",
        "    result = response.json()\n",
        "    try:\n",
        "        assistant_reply = result[\"choices\"][0][\"message\"][\"content\"]\n",
        "    except KeyError:\n",
        "        print(\"Error:\", result)\n",
        "        continue\n",
        "\n",
        "    # Print assistant reply\n",
        "    print(\"Chatbot:\", assistant_reply)\n",
        "\n",
        "    # Add assistant reply to conversation\n",
        "    messages.append({\"role\": \"assistant\", \"content\": assistant_reply})\n"
      ],
      "metadata": {
        "colab": {
          "base_uri": "https://localhost:8080/"
        },
        "id": "T0-3oIvdUQ9Y",
        "outputId": "a3421805-181f-4182-9f45-6b4194b7ca25"
      },
      "execution_count": null,
      "outputs": [
        {
          "output_type": "stream",
          "name": "stdout",
          "text": [
            "You: hi\n",
            "Chatbot: Hey there! 😄 What's up? Need a joke, a pun, or just some good vibes? I'm here to spread the cheer! 🎤✨  \n",
            "\n",
            "(Example joke if you're curious: *Why don’t scientists trust atoms?* … *Because they make up everything!* ⚛️😂)  \n",
            "\n",
            "Hit me with your mood, and I’ll match it with laughs! 🚀\n",
            "You: exist\n",
            "Chatbot: *existential crisis joke incoming*  \n",
            "\n",
            "Why did the photon refuse to check its luggage at the airport?  \n",
            "\n",
            "…Because it was *traveling light*! ✈️💡  \n",
            "\n",
            "(Or, meta edition: “Exist? I barely even *subsist* on bad coffee and WiFi signals!” ☕😂)  \n",
            "\n",
            "Need a serotonin bump? I’ve got puns, absurdity, or deep-cut memes—your call! 🎪🤹\n",
            "You: exit\n",
            "Chatbot: Goodbye! 👋\n"
          ]
        }
      ]
    },
    {
      "cell_type": "markdown",
      "source": [
        "## 🤖 Chatbot Project – Phase 4: Saving Conversation History\n",
        "\n",
        "In this phase, we'll add functionality to save the entire conversation history to a file.\n",
        "\n",
        "✅ Goal:\n",
        "- Export chat history to a text or JSON file.\n",
        "- Let the user review past conversations.\n",
        "\n",
        "✅ Result:\n",
        "- At the end of the chat, the assistant will ask to save the conversation."
      ],
      "metadata": {
        "id": "u3EKyRUfVvj_"
      }
    },
    {
      "cell_type": "code",
      "source": [
        "import json\n",
        "import requests\n",
        "\n",
        "api_key = getpass.getpass(\"Enter your OpenRouter API Key: \")\n",
        "api_key = \"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\"\n",
        "model = \"deepseek/deepseek-chat-v3-0324:free\"\n",
        "url = \"https://openrouter.ai/api/v1/chat/completions\"\n",
        "\n",
        "# 📌  Set Assistant Personality\n",
        "persona = input(\n",
        "    \"Choose your assistant's personality (e.g., helpful assistant, friendly comedian, expert doctor): \"\n",
        ").strip()\n",
        "\n",
        "# 📌 Start Conversation\n",
        "messages = [\n",
        "    {\"role\": \"system\", \"content\": f\"You are {persona}.\"}\n",
        "]\n",
        "\n",
        "while True:\n",
        "    user_input = input(\"You: \").strip()\n",
        "\n",
        "    # ✅  Exit Command\n",
        "    if user_input.lower() in [\"exit\", \"quit\", \"bye\"]:\n",
        "        print(\"Chatbot: Goodbye! 👋\")\n",
        "\n",
        "        # ✅  Save Conversation Option\n",
        "        save_choice = input(\"Do you want to save this conversation? (yes/no): \").strip().lower()\n",
        "        if save_choice == \"yes\":\n",
        "            file_name = input(\"Enter filename to save (e.g., chat_history.json): \").strip()\n",
        "            with open(file_name, \"w\", encoding=\"utf-8\") as f:\n",
        "                json.dump(messages, f, ensure_ascii=False, indent=2)\n",
        "            print(f\"✅ Conversation saved to {file_name}\")\n",
        "        else:\n",
        "            print(\"❗️ Conversation not saved.\")\n",
        "\n",
        "        break\n",
        "\n",
        "    # ✅  Add User Message\n",
        "    messages.append({\"role\": \"user\", \"content\": user_input})\n",
        "\n",
        "    # ✅  Send to OpenRouter\n",
        "    response = requests.post(\n",
        "        url,\n",
        "        headers={\n",
        "            \"Authorization\": f\"Bearer {api_key}\",\n",
        "            \"Content-Type\": \"application/json\"\n",
        "        },\n",
        "        json={\n",
        "            \"model\": model,\n",
        "            \"messages\": messages\n",
        "        }\n",
        "    )\n",
        "\n",
        "    result = response.json()\n",
        "    try:\n",
        "        assistant_reply = result[\"choices\"][0][\"message\"][\"content\"]\n",
        "    except KeyError:\n",
        "        print(\"Error:\", result)\n",
        "        continue\n",
        "\n",
        "    # ✅ Print Assistant Reply\n",
        "    print(\"Chatbot:\", assistant_reply)\n",
        "\n",
        "    # ✅ Add Assistant Reply to Conversation\n",
        "    messages.append({\"role\": \"assistant\", \"content\": assistant_reply})\n"
      ],
      "metadata": {
        "colab": {
          "base_uri": "https://localhost:8080/"
        },
        "id": "b6Nk2ATpVzd4",
        "outputId": "2a53259d-96b4-4903-c426-020b13694d80"
      },
      "execution_count": null,
      "outputs": [
        {
          "output_type": "stream",
          "name": "stdout",
          "text": [
            "Choose your assistant's personality (e.g., helpful assistant, friendly comedian, expert doctor): expert doctor\n",
            "You: hi\n",
            "Chatbot: Hello! How can I assist you with your medical questions today? Whether it's about symptoms, conditions, treatments, or general health advice, I'm here to provide accurate and helpful information.  \n",
            "\n",
            "**Important Note:** For any urgent or severe symptoms, please consult a healthcare professional in person or seek emergency care.  \n",
            "\n",
            "Feel free to ask me anything! 😊  \n",
            "\n",
            "*(Examples: \"What are the symptoms of diabetes?\" or \"How to manage stress?\")*\n",
            "You: headeach\n",
            "Chatbot: If you're experiencing **headache**, here are some key points to consider:  \n",
            "\n",
            "### **Possible Causes**  \n",
            "1. **Tension Headaches** – Most common, due to stress, poor posture, or eye strain.  \n",
            "2. **Migraine** – Throbbing pain (often one-sided), nausea, light/sound sensitivity.  \n",
            "3. **Sinus Headache** – Pressure around cheeks/forehead, usually with congestion.  \n",
            "4. **Dehydration** – Often improves with water and electrolytes.  \n",
            "5. **Caffeine Withdrawal** – If you skipped your usual coffee/tea.  \n",
            "6. **Cluster Headaches** – Severe, sharp pain around one eye (less common).  \n",
            "7. **Other Causes** – Lack of sleep, low blood sugar, medication side effects, or (rarely) serious conditions.  \n",
            "\n",
            "### **At-Home Relief**  \n",
            "✅ **Hydrate** (drink water, avoid alcohol/caffeine).  \n",
            "✅ **Rest in a dark, quiet room**.  \n",
            "✅ **Apply a cold/warm compress** (forehead or neck).  \n",
            "✅ **Massage** temples/neck/shoulders.  \n",
            "✅ **OTC Pain Relievers** – Like ibuprofen (if no contraindications).  \n",
            "\n",
            "### **When to See a Doctor** 🚨  \n",
            "⚠️ **Severe, sudden \"worst headache of your life\"** (could indicate serious issues like aneurysm).  \n",
            "⚠️ **Headache with fever, stiff neck, confusion, weakness, or vision changes**.  \n",
            "⚠️ **Lasts > 72 hours or worsens despite treatment**.  \n",
            "⚠️ **Follows a head injury**.  \n",
            "\n",
            "Would you like help narrowing down the type of headache or other remedies? Let me know your specifics (location, triggers, severity, etc.)!  \n",
            "\n",
            "*(If you're asking for someone else, share more details if possible.)* 😊\n",
            "You: exit\n",
            "Chatbot: Goodbye! 👋\n",
            "Do you want to save this conversation? (yes/no): yes\n",
            "Enter filename to save (e.g., chat_history.json): doctor.json\n",
            "✅ Conversation saved to doctor.json\n"
          ]
        }
      ]
    },
    {
      "cell_type": "markdown",
      "source": [
        "## 🤖 Chatbot Project – Phase 5: Loading Past Conversations\n",
        "\n",
        "In this phase, we'll allow the user to load a saved conversation from a file.\n",
        "\n",
        "✅ Goal:\n",
        "- Load saved conversation history.\n",
        "- Continue chatting with context.\n",
        "- Make the chatbot truly persistent.\n",
        "\n",
        "✅ Result:\n",
        "- The assistant remembers old chats even after closing the notebook."
      ],
      "metadata": {
        "id": "g0duX9-_YpyP"
      }
    },
    {
      "cell_type": "code",
      "source": [
        "import json\n",
        "import requests\n",
        "import getpass\n",
        "\n",
        "# ✅ Get API Key securely\n",
        "api_key = getpass.getpass(\"Enter your OpenRouter API Key: \")\n",
        "\n",
        "model = \"deepseek/deepseek-chat-v3-0324:free\"\n",
        "url = \"https://openrouter.ai/api/v1/chat/completions\"\n",
        "\n",
        "# ✅ Ask if user wants to load previous conversation\n",
        "load_choice = input(\"Do you want to load a previous conversation? (yes/no): \").strip().lower()\n",
        "\n",
        "if load_choice == \"yes\":\n",
        "    file_name = input(\"Enter the filename (e.g., chat_history.json): \").strip()\n",
        "    try:\n",
        "        with open(file_name, \"r\", encoding=\"utf-8\") as f:\n",
        "            messages = json.load(f)\n",
        "        print(f\"✅ Loaded conversation from {file_name}\")\n",
        "    except FileNotFoundError:\n",
        "        print(\"❗️ File not found. Starting a new conversation.\")\n",
        "        persona = input(\"Choose your assistant's personality: \").strip()\n",
        "        messages = [{\"role\": \"system\", \"content\": f\"You are {persona}.\"}]\n",
        "else:\n",
        "    # Start new conversation\n",
        "    persona = input(\"Choose your assistant's personality: \").strip()\n",
        "    messages = [{\"role\": \"system\", \"content\": f\"You are {persona}.\"}]\n"
      ],
      "metadata": {
        "colab": {
          "base_uri": "https://localhost:8080/"
        },
        "id": "1P3kCh9lYu14",
        "outputId": "fb236ce5-4719-46bc-966f-3050b7ad044e"
      },
      "execution_count": null,
      "outputs": [
        {
          "output_type": "stream",
          "name": "stdout",
          "text": [
            "Enter your OpenRouter API Key: ··········\n",
            "Do you want to load a previous conversation? (yes/no): yes\n",
            "Enter the filename (e.g., chat_history.json): doctor.json\n",
            "✅ Loaded conversation from doctor.json\n"
          ]
        }
      ]
    },
    {
      "cell_type": "code",
      "source": [
        "while True:\n",
        "    user_input = input(\"You: \").strip()\n",
        "    if user_input.lower() in [\"exit\", \"quit\", \"bye\"]:\n",
        "        print(\"Chatbot: Goodbye! 👋\")\n",
        "\n",
        "        # ✅ Save your conversation\n",
        "        save_choice = input(\"Do you want to save this conversation? (yes/no): \").strip().lower()\n",
        "        if save_choice == \"yes\":\n",
        "            file_name = input(\"Enter filename to save (e.g., chat_history.json): \").strip()\n",
        "            with open(file_name, \"w\", encoding=\"utf-8\") as f:\n",
        "                json.dump(messages, f, ensure_ascii=False, indent=2)\n",
        "            print(f\"✅ Conversation saved to {file_name}\")\n",
        "        else:\n",
        "            print(\"❗️ Conversation not saved.\")\n",
        "\n",
        "        break\n",
        "\n",
        "    # ✅ Add user message\n",
        "    messages.append({\"role\": \"user\", \"content\": user_input})\n",
        "\n",
        "    # ✅ Send to OpenRouter\n",
        "    response = requests.post(\n",
        "        url,\n",
        "        headers={\n",
        "            \"Authorization\": f\"Bearer {api_key}\",\n",
        "            \"Content-Type\": \"application/json\"\n",
        "        },\n",
        "        json={\n",
        "            \"model\": model,\n",
        "            \"messages\": messages\n",
        "        }\n",
        "    )\n",
        "\n",
        "    result = response.json()\n",
        "    try:\n",
        "        assistant_reply = result[\"choices\"][0][\"message\"][\"content\"]\n",
        "    except KeyError:\n",
        "        print(\"Error:\", result)\n",
        "        continue\n",
        "\n",
        "    # ✅ Print assistant reply\n",
        "    print(\"Chatbot:\", assistant_reply)\n",
        "\n",
        "    # ✅ Add assistant reply to conversation\n",
        "    messages.append({\"role\": \"assistant\", \"content\": assistant_reply})\n"
      ],
      "metadata": {
        "colab": {
          "base_uri": "https://localhost:8080/"
        },
        "collapsed": true,
        "id": "exn_4BFaZL9x",
        "outputId": "610c8c0a-93c9-4c66-eb5a-6aae47d806a8"
      },
      "execution_count": null,
      "outputs": [
        {
          "output_type": "stream",
          "name": "stdout",
          "text": [
            "You: hi\n",
            "Chatbot: Hello again! 👋 How can I assist you with your health concerns today? If you're still experiencing **headache** or any other symptoms, feel free to share:  \n",
            "- **Location** (e.g., forehead, back of head, one side).  \n",
            "- **Type of pain** (throbbing, stabbing, dull pressure).  \n",
            "- **Triggers** (stress, food, lack of sleep, etc.).  \n",
            "- **Other symptoms** (nausea, dizziness, fever).  \n",
            "\n",
            "Or ask about another topic—I’m here to help! 😊  \n",
            "\n",
            "*Examples:*  \n",
            "- *\"How to relieve a migraine fast?\"*  \n",
            "- *\"Could my headache be serious?\"*  \n",
            "- *\"Best home remedies for sinus pressure?\"*  \n",
            "\n",
            "Let me know!\n",
            "You: exit\n",
            "Chatbot: Goodbye! 👋\n",
            "Do you want to save this conversation? (yes/no): no\n",
            "❗️ Conversation not saved.\n"
          ]
        }
      ]
    },
    {
      "cell_type": "markdown",
      "source": [
        "# 🤖 OpenRouter Chatbot – Streamlit App\n",
        "\n",
        "This app is a personal AI chat assistant built using **Streamlit** and **OpenRouter API**.\n",
        "\n",
        "---\n",
        "\n",
        "## ✅ Features\n",
        "- Secure API key input (kept hidden from UI).\n",
        "- Choose your assistant's **persona**:\n",
        "  - Helpful Assistant\n",
        "  - Doctor\n",
        "  - Lawyer\n",
        "  - Storyteller\n",
        "  - Custom persona (user-defined)\n",
        "- Displays the **current persona** at all times.\n",
        "- Supports **multi-turn conversation** (chat history).\n",
        "- Save / Load conversations as `.json` files.\n",
        "- Start a **new chat** at any time to clear history and reselect persona.\n",
        "\n",
        "---\n",
        "\n",
        "## ✅ How It Works\n",
        "1️⃣ Enter your **OpenRouter API key** at the top.  \n",
        "2️⃣ Choose a **persona** to define how the assistant should behave.  \n",
        "3️⃣ Start chatting using the message box.  \n",
        "4️⃣ View your **chat history** in the app.  \n",
        "5️⃣ Save your conversation to a file or load a previous chat.  \n",
        "6️⃣ Use **Start New Chat** to reset everything and choose a new persona.\n",
        "\n",
        "---\n",
        "\n",
        "## ✅ Example Use Cases\n",
        "- Friendly Q&A\n",
        "- Health advice (Doctor persona)\n",
        "- Legal guidance (Lawyer persona)\n",
        "- Creative storytelling\n",
        "- Any custom persona you want\n",
        "\n",
        "---\n",
        "\n",
        "## ✅ Notes\n",
        "- Your API key is not stored or shared.\n",
        "- OpenRouter's free models can be used, but you must have your own account and key.\n",
        "- Always review model responses for critical use cases.\n",
        "\n",
        "---\n",
        "\n"
      ],
      "metadata": {
        "id": "H1x4TYeSX75c"
      }
    },
    {
      "cell_type": "code",
      "source": [
        "!pip install streamlit\n"
      ],
      "metadata": {
        "colab": {
          "base_uri": "https://localhost:8080/"
        },
        "collapsed": true,
        "id": "P-JU06cOck5g",
        "outputId": "35569d86-0c4e-4ce1-efbd-1f091e637337"
      },
      "execution_count": null,
      "outputs": [
        {
          "output_type": "stream",
          "name": "stdout",
          "text": [
            "Collecting streamlit\n",
            "  Downloading streamlit-1.46.1-py3-none-any.whl.metadata (9.0 kB)\n",
            "Requirement already satisfied: altair<6,>=4.0 in /usr/local/lib/python3.11/dist-packages (from streamlit) (5.5.0)\n",
            "Requirement already satisfied: blinker<2,>=1.5.0 in /usr/local/lib/python3.11/dist-packages (from streamlit) (1.9.0)\n",
            "Requirement already satisfied: cachetools<7,>=4.0 in /usr/local/lib/python3.11/dist-packages (from streamlit) (5.5.2)\n",
            "Requirement already satisfied: click<9,>=7.0 in /usr/local/lib/python3.11/dist-packages (from streamlit) (8.2.1)\n",
            "Requirement already satisfied: numpy<3,>=1.23 in /usr/local/lib/python3.11/dist-packages (from streamlit) (2.0.2)\n",
            "Requirement already satisfied: packaging<26,>=20 in /usr/local/lib/python3.11/dist-packages (from streamlit) (24.2)\n",
            "Requirement already satisfied: pandas<3,>=1.4.0 in /usr/local/lib/python3.11/dist-packages (from streamlit) (2.2.2)\n",
            "Requirement already satisfied: pillow<12,>=7.1.0 in /usr/local/lib/python3.11/dist-packages (from streamlit) (11.2.1)\n",
            "Requirement already satisfied: protobuf<7,>=3.20 in /usr/local/lib/python3.11/dist-packages (from streamlit) (5.29.5)\n",
            "Requirement already satisfied: pyarrow>=7.0 in /usr/local/lib/python3.11/dist-packages (from streamlit) (18.1.0)\n",
            "Requirement already satisfied: requests<3,>=2.27 in /usr/local/lib/python3.11/dist-packages (from streamlit) (2.32.3)\n",
            "Requirement already satisfied: tenacity<10,>=8.1.0 in /usr/local/lib/python3.11/dist-packages (from streamlit) (8.5.0)\n",
            "Requirement already satisfied: toml<2,>=0.10.1 in /usr/local/lib/python3.11/dist-packages (from streamlit) (0.10.2)\n",
            "Requirement already satisfied: typing-extensions<5,>=4.4.0 in /usr/local/lib/python3.11/dist-packages (from streamlit) (4.14.1)\n",
            "Collecting watchdog<7,>=2.1.5 (from streamlit)\n",
            "  Downloading watchdog-6.0.0-py3-none-manylinux2014_x86_64.whl.metadata (44 kB)\n",
            "\u001b[2K     \u001b[90m━━━━━━━━━━━━━━━━━━━━━━━━━━━━━━━━━━━━━━━━\u001b[0m \u001b[32m44.3/44.3 kB\u001b[0m \u001b[31m3.4 MB/s\u001b[0m eta \u001b[36m0:00:00\u001b[0m\n",
            "\u001b[?25hRequirement already satisfied: gitpython!=3.1.19,<4,>=3.0.7 in /usr/local/lib/python3.11/dist-packages (from streamlit) (3.1.44)\n",
            "Collecting pydeck<1,>=0.8.0b4 (from streamlit)\n",
            "  Downloading pydeck-0.9.1-py2.py3-none-any.whl.metadata (4.1 kB)\n",
            "Requirement already satisfied: tornado!=6.5.0,<7,>=6.0.3 in /usr/local/lib/python3.11/dist-packages (from streamlit) (6.4.2)\n",
            "Requirement already satisfied: jinja2 in /usr/local/lib/python3.11/dist-packages (from altair<6,>=4.0->streamlit) (3.1.6)\n",
            "Requirement already satisfied: jsonschema>=3.0 in /usr/local/lib/python3.11/dist-packages (from altair<6,>=4.0->streamlit) (4.24.0)\n",
            "Requirement already satisfied: narwhals>=1.14.2 in /usr/local/lib/python3.11/dist-packages (from altair<6,>=4.0->streamlit) (1.45.0)\n",
            "Requirement already satisfied: gitdb<5,>=4.0.1 in /usr/local/lib/python3.11/dist-packages (from gitpython!=3.1.19,<4,>=3.0.7->streamlit) (4.0.12)\n",
            "Requirement already satisfied: python-dateutil>=2.8.2 in /usr/local/lib/python3.11/dist-packages (from pandas<3,>=1.4.0->streamlit) (2.9.0.post0)\n",
            "Requirement already satisfied: pytz>=2020.1 in /usr/local/lib/python3.11/dist-packages (from pandas<3,>=1.4.0->streamlit) (2025.2)\n",
            "Requirement already satisfied: tzdata>=2022.7 in /usr/local/lib/python3.11/dist-packages (from pandas<3,>=1.4.0->streamlit) (2025.2)\n",
            "Requirement already satisfied: charset-normalizer<4,>=2 in /usr/local/lib/python3.11/dist-packages (from requests<3,>=2.27->streamlit) (3.4.2)\n",
            "Requirement already satisfied: idna<4,>=2.5 in /usr/local/lib/python3.11/dist-packages (from requests<3,>=2.27->streamlit) (3.10)\n",
            "Requirement already satisfied: urllib3<3,>=1.21.1 in /usr/local/lib/python3.11/dist-packages (from requests<3,>=2.27->streamlit) (2.4.0)\n",
            "Requirement already satisfied: certifi>=2017.4.17 in /usr/local/lib/python3.11/dist-packages (from requests<3,>=2.27->streamlit) (2025.6.15)\n",
            "Requirement already satisfied: smmap<6,>=3.0.1 in /usr/local/lib/python3.11/dist-packages (from gitdb<5,>=4.0.1->gitpython!=3.1.19,<4,>=3.0.7->streamlit) (5.0.2)\n",
            "Requirement already satisfied: MarkupSafe>=2.0 in /usr/local/lib/python3.11/dist-packages (from jinja2->altair<6,>=4.0->streamlit) (3.0.2)\n",
            "Requirement already satisfied: attrs>=22.2.0 in /usr/local/lib/python3.11/dist-packages (from jsonschema>=3.0->altair<6,>=4.0->streamlit) (25.3.0)\n",
            "Requirement already satisfied: jsonschema-specifications>=2023.03.6 in /usr/local/lib/python3.11/dist-packages (from jsonschema>=3.0->altair<6,>=4.0->streamlit) (2025.4.1)\n",
            "Requirement already satisfied: referencing>=0.28.4 in /usr/local/lib/python3.11/dist-packages (from jsonschema>=3.0->altair<6,>=4.0->streamlit) (0.36.2)\n",
            "Requirement already satisfied: rpds-py>=0.7.1 in /usr/local/lib/python3.11/dist-packages (from jsonschema>=3.0->altair<6,>=4.0->streamlit) (0.26.0)\n",
            "Requirement already satisfied: six>=1.5 in /usr/local/lib/python3.11/dist-packages (from python-dateutil>=2.8.2->pandas<3,>=1.4.0->streamlit) (1.17.0)\n",
            "Downloading streamlit-1.46.1-py3-none-any.whl (10.1 MB)\n",
            "\u001b[2K   \u001b[90m━━━━━━━━━━━━━━━━━━━━━━━━━━━━━━━━━━━━━━━━\u001b[0m \u001b[32m10.1/10.1 MB\u001b[0m \u001b[31m92.0 MB/s\u001b[0m eta \u001b[36m0:00:00\u001b[0m\n",
            "\u001b[?25hDownloading pydeck-0.9.1-py2.py3-none-any.whl (6.9 MB)\n",
            "\u001b[2K   \u001b[90m━━━━━━━━━━━━━━━━━━━━━━━━━━━━━━━━━━━━━━━━\u001b[0m \u001b[32m6.9/6.9 MB\u001b[0m \u001b[31m98.3 MB/s\u001b[0m eta \u001b[36m0:00:00\u001b[0m\n",
            "\u001b[?25hDownloading watchdog-6.0.0-py3-none-manylinux2014_x86_64.whl (79 kB)\n",
            "\u001b[2K   \u001b[90m━━━━━━━━━━━━━━━━━━━━━━━━━━━━━━━━━━━━━━━━\u001b[0m \u001b[32m79.1/79.1 kB\u001b[0m \u001b[31m7.8 MB/s\u001b[0m eta \u001b[36m0:00:00\u001b[0m\n",
            "\u001b[?25hInstalling collected packages: watchdog, pydeck, streamlit\n",
            "Successfully installed pydeck-0.9.1 streamlit-1.46.1 watchdog-6.0.0\n"
          ]
        }
      ]
    },
    {
      "cell_type": "code",
      "source": [
        "%%writefile chatbot_app.py\n",
        "import streamlit as st\n",
        "import requests\n",
        "import json\n",
        "\n",
        "# ---------- Page Settings ----------\n",
        "st.set_page_config(page_title=\"OpenRouter Chatbot\", page_icon=\"🤖\")\n",
        "st.title(\"🤖 OpenRouter Chatbot\")\n",
        "\n",
        "# ---------- API Key ----------\n",
        "api_key = st.text_input(\"🔑 Enter your OpenRouter API Key:\", type=\"password\")\n",
        "if not api_key:\n",
        "    st.warning(\"Please enter your API key to continue.\")\n",
        "    st.stop()\n",
        "\n",
        "model = \"deepseek/deepseek-chat-v3-0324:free\"\n",
        "url = \"https://openrouter.ai/api/v1/chat/completions\"\n",
        "\n",
        "# ---------- Initialize Session State ----------\n",
        "if \"messages\" not in st.session_state:\n",
        "    st.session_state.messages = []\n",
        "\n",
        "if \"persona\" not in st.session_state:\n",
        "    st.session_state.persona = None\n",
        "\n",
        "if \"custom_persona\" not in st.session_state:\n",
        "    st.session_state.custom_persona = \"\"\n",
        "\n",
        "# ---------- Persona Selection ----------\n",
        "st.subheader(\"🎭 Choose Your Assistant's Persona\")\n",
        "\n",
        "persona_options = [\n",
        "    \"Helpful Assistant 🤝\",\n",
        "    \"Doctor 👨‍⚕️\",\n",
        "    \"Lawyer ⚖️\",\n",
        "    \"Storyteller 📚\",\n",
        "    \"Custom (Type your own)\"\n",
        "]\n",
        "\n",
        "selected_persona = st.selectbox(\n",
        "    \"Select a persona:\",\n",
        "    persona_options,\n",
        "    index=persona_options.index(st.session_state.persona) if st.session_state.persona in persona_options else 0\n",
        ")\n",
        "\n",
        "if selected_persona == \"Custom (Type your own)\":\n",
        "    custom_persona_input = st.text_input(\n",
        "        \"✏️ Define your custom assistant persona here:\",\n",
        "        value=st.session_state.custom_persona\n",
        "    )\n",
        "    if custom_persona_input:\n",
        "        st.session_state.persona = custom_persona_input\n",
        "        st.session_state.custom_persona = custom_persona_input\n",
        "    else:\n",
        "        st.warning(\"Please enter a custom persona.\")\n",
        "        st.stop()\n",
        "else:\n",
        "    st.session_state.persona = selected_persona\n",
        "    st.session_state.custom_persona = \"\"\n",
        "\n",
        "# ---------- Show Current Persona ----------\n",
        "st.markdown(f\"🧭 **Current Assistant Persona:** _{st.session_state.persona}_\")\n",
        "\n",
        "# ---------- Add System Message if Starting New Chat ----------\n",
        "if not any(msg[\"role\"] == \"system\" for msg in st.session_state.messages):\n",
        "    st.session_state.messages.insert(0, {\"role\": \"system\", \"content\": f\"You are {st.session_state.persona}.\"})\n",
        "\n",
        "# ---------- Start New Chat Button ----------\n",
        "if st.button(\"🆕 Start New Chat\"):\n",
        "    st.session_state.messages = [{\"role\": \"system\", \"content\": f\"You are {st.session_state.persona}.\"}]\n",
        "    st.rerun()\n",
        "\n",
        "# ---------- Display Chat History ----------\n",
        "st.subheader(\"💬 Chat History\")\n",
        "for msg in st.session_state.messages:\n",
        "    if msg[\"role\"] == \"user\":\n",
        "        st.markdown(f\"**🧑 You:** {msg['content']}\")\n",
        "    elif msg[\"role\"] == \"assistant\":\n",
        "        st.markdown(f\"**🤖 Assistant:** {msg['content']}\")\n",
        "\n",
        "# ---------- User Input ----------\n",
        "user_input = st.chat_input(\"Type your message here...\")\n",
        "if user_input:\n",
        "    st.session_state.messages.append({\"role\": \"user\", \"content\": user_input})\n",
        "\n",
        "    headers = {\n",
        "        \"Authorization\": f\"Bearer {api_key}\",\n",
        "        \"Content-Type\": \"application/json\"\n",
        "    }\n",
        "    data = {\n",
        "        \"model\": model,\n",
        "        \"messages\": st.session_state.messages\n",
        "    }\n",
        "\n",
        "    response = requests.post(url, headers=headers, json=data)\n",
        "    result = response.json()\n",
        "\n",
        "    try:\n",
        "        assistant_reply = result[\"choices\"][0][\"message\"][\"content\"]\n",
        "    except (KeyError, IndexError):\n",
        "        assistant_reply = \"❗️ Error getting response. Please check your API key or try again.\"\n",
        "\n",
        "    st.session_state.messages.append({\"role\": \"assistant\", \"content\": assistant_reply})\n",
        "    st.rerun()\n",
        "\n",
        "# ---------- Save / Load Conversation ----------\n",
        "st.divider()\n",
        "st.subheader(\"💾 Save / Load Conversation\")\n",
        "\n",
        "if st.button(\"💾 Save Conversation\"):\n",
        "    filename = st.text_input(\"Enter filename to save:\", \"chat_history.json\")\n",
        "    if filename:\n",
        "        with open(filename, \"w\", encoding=\"utf-8\") as f:\n",
        "            json.dump(st.session_state.messages, f, ensure_ascii=False, indent=2)\n",
        "        st.success(f\"✅ Conversation saved to {filename}\")\n",
        "\n",
        "if st.button(\"📂 Load Conversation\"):\n",
        "    uploaded_file = st.file_uploader(\"Choose a .json file\", type=\"json\")\n",
        "    if uploaded_file:\n",
        "        st.session_state.messages = json.load(uploaded_file)\n",
        "        st.success(\"✅ Conversation loaded!\")\n",
        "        st.rerun()\n"
      ],
      "metadata": {
        "colab": {
          "base_uri": "https://localhost:8080/"
        },
        "id": "KzoRjJ_IcKZV",
        "outputId": "f0431490-7853-415e-ca27-4b6a17b5e4a2"
      },
      "execution_count": 6,
      "outputs": [
        {
          "output_type": "stream",
          "name": "stdout",
          "text": [
            "Overwriting chatbot_app.py\n"
          ]
        }
      ]
    }
  ]
}